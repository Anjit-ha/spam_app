{
 "cells": [
  {
   "cell_type": "code",
   "execution_count": null,
   "id": "6e1ea45f",
   "metadata": {},
   "outputs": [],
   "source": [
    "\n",
    "\n",
    "\n",
    "\n",
    "\n",
    "\n",
    "\n",
    "\n",
    "\n",
    "\n",
    "\n",
    "\n",
    "\n",
    "\n",
    "\n",
    "\n",
    "\n",
    "\n",
    "\n",
    "\n",
    "\n",
    "\n",
    "import pandas as pd"
   ]
  },
  {
   "cell_type": "code",
   "execution_count": 2,
   "id": "928c6da3",
   "metadata": {},
   "outputs": [
    {
     "data": {
      "text/html": [
       "<div>\n",
       "<style scoped>\n",
       "    .dataframe tbody tr th:only-of-type {\n",
       "        vertical-align: middle;\n",
       "    }\n",
       "\n",
       "    .dataframe tbody tr th {\n",
       "        vertical-align: top;\n",
       "    }\n",
       "\n",
       "    .dataframe thead th {\n",
       "        text-align: right;\n",
       "    }\n",
       "</style>\n",
       "<table border=\"1\" class=\"dataframe\">\n",
       "  <thead>\n",
       "    <tr style=\"text-align: right;\">\n",
       "      <th></th>\n",
       "      <th>text</th>\n",
       "      <th>label</th>\n",
       "    </tr>\n",
       "  </thead>\n",
       "  <tbody>\n",
       "    <tr>\n",
       "      <th>0</th>\n",
       "      <td>Subject: naturally irresistible your corporate...</td>\n",
       "      <td>spam</td>\n",
       "    </tr>\n",
       "    <tr>\n",
       "      <th>1</th>\n",
       "      <td>Subject: the stock trading gunslinger  fanny i...</td>\n",
       "      <td>spam</td>\n",
       "    </tr>\n",
       "    <tr>\n",
       "      <th>2</th>\n",
       "      <td>Subject: unbelievable new homes made easy  im ...</td>\n",
       "      <td>spam</td>\n",
       "    </tr>\n",
       "    <tr>\n",
       "      <th>3</th>\n",
       "      <td>Subject: 4 color printing special  request add...</td>\n",
       "      <td>spam</td>\n",
       "    </tr>\n",
       "    <tr>\n",
       "      <th>4</th>\n",
       "      <td>Subject: do not have money , get software cds ...</td>\n",
       "      <td>spam</td>\n",
       "    </tr>\n",
       "    <tr>\n",
       "      <th>...</th>\n",
       "      <td>...</td>\n",
       "      <td>...</td>\n",
       "    </tr>\n",
       "    <tr>\n",
       "      <th>495</th>\n",
       "      <td>Subject: re : invitation to speak at power 200...</td>\n",
       "      <td>not spam</td>\n",
       "    </tr>\n",
       "    <tr>\n",
       "      <th>496</th>\n",
       "      <td>Subject: re : aram ' s visit  jesus ,  i yalke...</td>\n",
       "      <td>not spam</td>\n",
       "    </tr>\n",
       "    <tr>\n",
       "      <th>497</th>\n",
       "      <td>Subject: - - - - - - - - - - - - - - - - - - -...</td>\n",
       "      <td>not spam</td>\n",
       "    </tr>\n",
       "    <tr>\n",
       "      <th>498</th>\n",
       "      <td>Subject: reschedule meeting for duffie report ...</td>\n",
       "      <td>not spam</td>\n",
       "    </tr>\n",
       "    <tr>\n",
       "      <th>499</th>\n",
       "      <td>Subject: re : enl - dailyupdate - txt  please ...</td>\n",
       "      <td>not spam</td>\n",
       "    </tr>\n",
       "  </tbody>\n",
       "</table>\n",
       "<p>500 rows × 2 columns</p>\n",
       "</div>"
      ],
      "text/plain": [
       "                                                  text     label\n",
       "0    Subject: naturally irresistible your corporate...      spam\n",
       "1    Subject: the stock trading gunslinger  fanny i...      spam\n",
       "2    Subject: unbelievable new homes made easy  im ...      spam\n",
       "3    Subject: 4 color printing special  request add...      spam\n",
       "4    Subject: do not have money , get software cds ...      spam\n",
       "..                                                 ...       ...\n",
       "495  Subject: re : invitation to speak at power 200...  not spam\n",
       "496  Subject: re : aram ' s visit  jesus ,  i yalke...  not spam\n",
       "497  Subject: - - - - - - - - - - - - - - - - - - -...  not spam\n",
       "498  Subject: reschedule meeting for duffie report ...  not spam\n",
       "499  Subject: re : enl - dailyupdate - txt  please ...  not spam\n",
       "\n",
       "[500 rows x 2 columns]"
      ]
     },
     "execution_count": 2,
     "metadata": {},
     "output_type": "execute_result"
    }
   ],
   "source": [
    "data = pd.read_csv('data.csv', encoding='latin-1')# handle any potential encoding issues.\n",
    "data"
   ]
  },
  {
   "cell_type": "code",
   "execution_count": 3,
   "id": "62ac64a8",
   "metadata": {},
   "outputs": [],
   "source": [
    "import re\n",
    "\n",
    "# Ensure all text values are strings\n",
    "data['text'] = data['text'].fillna('').astype(str)\n",
    "\n",
    "# Preprocess function: lowercase and remove non-alphabetic characters\n",
    "def preprocess(text):\n",
    "    return re.sub(r'\\W+', ' ', text).lower().split()\n",
    "\n",
    "# Apply preprocessing\n",
    "data['text'] = data['text'].apply(preprocess)\n"
   ]
  },
  {
   "cell_type": "code",
   "execution_count": 4,
   "id": "56029c35",
   "metadata": {},
   "outputs": [
    {
     "data": {
      "text/html": [
       "<div>\n",
       "<style scoped>\n",
       "    .dataframe tbody tr th:only-of-type {\n",
       "        vertical-align: middle;\n",
       "    }\n",
       "\n",
       "    .dataframe tbody tr th {\n",
       "        vertical-align: top;\n",
       "    }\n",
       "\n",
       "    .dataframe thead th {\n",
       "        text-align: right;\n",
       "    }\n",
       "</style>\n",
       "<table border=\"1\" class=\"dataframe\">\n",
       "  <thead>\n",
       "    <tr style=\"text-align: right;\">\n",
       "      <th></th>\n",
       "      <th>text</th>\n",
       "      <th>label</th>\n",
       "      <th>Spam</th>\n",
       "    </tr>\n",
       "  </thead>\n",
       "  <tbody>\n",
       "    <tr>\n",
       "      <th>0</th>\n",
       "      <td>[subject, naturally, irresistible, your, corpo...</td>\n",
       "      <td>spam</td>\n",
       "      <td>1</td>\n",
       "    </tr>\n",
       "    <tr>\n",
       "      <th>1</th>\n",
       "      <td>[subject, the, stock, trading, gunslinger, fan...</td>\n",
       "      <td>spam</td>\n",
       "      <td>1</td>\n",
       "    </tr>\n",
       "    <tr>\n",
       "      <th>2</th>\n",
       "      <td>[subject, unbelievable, new, homes, made, easy...</td>\n",
       "      <td>spam</td>\n",
       "      <td>1</td>\n",
       "    </tr>\n",
       "    <tr>\n",
       "      <th>3</th>\n",
       "      <td>[subject, 4, color, printing, special, request...</td>\n",
       "      <td>spam</td>\n",
       "      <td>1</td>\n",
       "    </tr>\n",
       "    <tr>\n",
       "      <th>4</th>\n",
       "      <td>[subject, do, not, have, money, get, software,...</td>\n",
       "      <td>spam</td>\n",
       "      <td>1</td>\n",
       "    </tr>\n",
       "  </tbody>\n",
       "</table>\n",
       "</div>"
      ],
      "text/plain": [
       "                                                text label  Spam\n",
       "0  [subject, naturally, irresistible, your, corpo...  spam     1\n",
       "1  [subject, the, stock, trading, gunslinger, fan...  spam     1\n",
       "2  [subject, unbelievable, new, homes, made, easy...  spam     1\n",
       "3  [subject, 4, color, printing, special, request...  spam     1\n",
       "4  [subject, do, not, have, money, get, software,...  spam     1"
      ]
     },
     "execution_count": 4,
     "metadata": {},
     "output_type": "execute_result"
    }
   ],
   "source": [
    "data['Spam']=data['label'].apply(lambda x:1 if x=='spam' else 0)\n",
    "data.head(5)"
   ]
  },
  {
   "cell_type": "code",
   "execution_count": 5,
   "id": "9867c9aa",
   "metadata": {},
   "outputs": [],
   "source": [
    "from sklearn.model_selection import train_test_split\n",
    "\n",
    "X = data['text']\n",
    "y = data['Spam']\n",
    "\n",
    "X_train, X_test, y_train, y_test = train_test_split(X, y, test_size=0.25, random_state=42)\n"
   ]
  },
  {
   "cell_type": "code",
   "execution_count": 6,
   "id": "ed733e6c",
   "metadata": {},
   "outputs": [
    {
     "data": {
      "text/plain": [
       "(0.504, 0.496)"
      ]
     },
     "execution_count": 6,
     "metadata": {},
     "output_type": "execute_result"
    }
   ],
   "source": [
    "def calculate_prior(y_train):\n",
    "    total = len(y_train)\n",
    "    p_spam = sum(y_train) / total\n",
    "    p_ham = 1 - p_spam\n",
    "    return p_spam, p_ham\n",
    "\n",
    "p_spam, p_ham = calculate_prior(y_train)\n",
    "calculate_prior(y_train)"
   ]
  },
  {
   "cell_type": "code",
   "execution_count": 7,
   "id": "64073ec2",
   "metadata": {},
   "outputs": [],
   "source": [
    "from collections import defaultdict\n",
    "\n",
    "def calculate_likelihood(X_train, y_train):\n",
    "    spam_words = defaultdict(int)\n",
    "    ham_words = defaultdict(int)\n",
    "    total_spam, total_ham = 0, 0\n",
    "\n",
    "    for i, message in enumerate(X_train):\n",
    "        for word in message:\n",
    "            if y_train.iloc[i] == 1:  # Spam\n",
    "                spam_words[word] += 1\n",
    "                total_spam += 1\n",
    "            else: \n",
    "                ham_words[word] += 1\n",
    "                total_ham += 1\n",
    "\n",
    "    return spam_words, ham_words, total_spam, total_ham\n",
    "\n",
    "spam_words, ham_words, total_spam, total_ham = calculate_likelihood(X_train, y_train)\n",
    "#calculate_likelihood(X_train, y_train)"
   ]
  },
  {
   "cell_type": "code",
   "execution_count": 8,
   "id": "9754cc5b",
   "metadata": {},
   "outputs": [],
   "source": [
    "def classify(message, spam_words, ham_words, total_spam, total_ham, p_spam, p_ham, alpha=1):\n",
    "    words = preprocess(message)\n",
    "    p_spam_given_message = p_spam\n",
    "    p_ham_given_message = p_ham\n",
    "\n",
    "    for word in words:\n",
    "        p_spam_given_message *= (spam_words[word] + alpha) / (total_spam + alpha * len(spam_words))\n",
    "        p_ham_given_message *= (ham_words[word] + alpha) / (total_ham + alpha * len(ham_words))\n",
    "\n",
    "    return 1 if p_spam_given_message > p_ham_given_message else 0"
   ]
  },
  {
   "cell_type": "code",
   "execution_count": 9,
   "id": "a2c046a6",
   "metadata": {},
   "outputs": [
    {
     "name": "stdout",
     "output_type": "stream",
     "text": [
      "Accuracy: 75.20%\n"
     ]
    }
   ],
   "source": [
    "y_pred = X_test.apply(lambda x: classify(' '.join(x), spam_words, ham_words, total_spam, total_ham, p_spam, p_ham))\n",
    "\n",
    "\n",
    "# Calculate accuracy\n",
    "accuracy = sum(y_pred == y_test) / len(y_test)\n",
    "print(f'Accuracy: {accuracy * 100:.2f}%')\n"
   ]
  },
  {
   "cell_type": "code",
   "execution_count": 10,
   "id": "b8f6b52e",
   "metadata": {},
   "outputs": [
    {
     "name": "stdout",
     "output_type": "stream",
     "text": [
      "Enter the new mail: hi\n",
      "The message is not spam.\n"
     ]
    }
   ],
   "source": [
    "def predict_and_evaluate(new_message):\n",
    "\n",
    "    prediction = classify(new_message, spam_words, ham_words, total_spam, total_ham, p_spam, p_ham, alpha=1)\n",
    "    # Output the prediction\n",
    "    if prediction == 1:\n",
    "        result = \"The message is spam.\"\n",
    "    else:\n",
    "        result = \"The message is not spam.\"\n",
    "\n",
    "\n",
    "    return result\n",
    "\n",
    "# Example usage\n",
    "new_message = input(\"Enter the new mail: \")\n",
    "result = predict_and_evaluate(new_message)\n",
    "print(result)\n"
   ]
  },
  {
   "cell_type": "code",
   "execution_count": 13,
   "id": "8b4f5eb0",
   "metadata": {},
   "outputs": [
    {
     "name": "stdout",
     "output_type": "stream",
     "text": [
      "Naïve Bayes Accuracy: 97.60%\n",
      "Logistic Regression Accuracy: 98.40%\n",
      "\n",
      "Naïve Bayes Confusion Matrix:\n",
      " [[64  1]\n",
      " [ 2 58]]\n",
      "\n",
      "Logistic Regression Confusion Matrix:\n",
      " [[63  2]\n",
      " [ 0 60]]\n",
      "Models and vectorizer saved successfully!\n"
     ]
    }
   ],
   "source": [
    "import pandas as pd\n",
    "import joblib\n",
    "import re\n",
    "from sklearn.feature_extraction.text import TfidfVectorizer\n",
    "from sklearn.naive_bayes import MultinomialNB\n",
    "from sklearn.linear_model import LogisticRegression\n",
    "from sklearn.model_selection import train_test_split\n",
    "from sklearn.metrics import accuracy_score, confusion_matrix\n",
    "\n",
    "# Load data\n",
    "data = pd.read_csv('data.csv', encoding='latin-1')\n",
    "\n",
    "# Ensure text column is string and preprocess\n",
    "data['text'] = data['text'].fillna('').astype(str)\n",
    "\n",
    "# Preprocess function: lowercase & remove non-alphabetic characters\n",
    "def preprocess(text):\n",
    "    return re.sub(r'\\W+', ' ', text).lower()\n",
    "\n",
    "data['text'] = data['text'].apply(preprocess)\n",
    "data['Spam'] = data['label'].apply(lambda x: 1 if x == 'spam' else 0)\n",
    "\n",
    "# Split data\n",
    "X_train, X_test, y_train, y_test = train_test_split(data['text'], data['Spam'], test_size=0.25, random_state=42)\n",
    "\n",
    "# Convert text to numerical features using TF-IDF\n",
    "vectorizer = TfidfVectorizer()\n",
    "X_train_tfidf = vectorizer.fit_transform(X_train)\n",
    "X_test_tfidf = vectorizer.transform(X_test)\n",
    "\n",
    "# Train Naïve Bayes Model\n",
    "nb_model = MultinomialNB()\n",
    "nb_model.fit(X_train_tfidf, y_train)\n",
    "\n",
    "# Train Logistic Regression Model\n",
    "lr_model = LogisticRegression()\n",
    "lr_model.fit(X_train_tfidf, y_train)\n",
    "\n",
    "# Evaluate models\n",
    "nb_pred = nb_model.predict(X_test_tfidf)\n",
    "lr_pred = lr_model.predict(X_test_tfidf)\n",
    "\n",
    "nb_acc = accuracy_score(y_test, nb_pred)\n",
    "lr_acc = accuracy_score(y_test, lr_pred)\n",
    "\n",
    "nb_conf_matrix = confusion_matrix(y_test, nb_pred)\n",
    "lr_conf_matrix = confusion_matrix(y_test, lr_pred)\n",
    "\n",
    "print(f\"Naïve Bayes Accuracy: {nb_acc * 100:.2f}%\")\n",
    "print(f\"Logistic Regression Accuracy: {lr_acc * 100:.2f}%\")\n",
    "\n",
    "print(\"\\nNaïve Bayes Confusion Matrix:\\n\", nb_conf_matrix)\n",
    "print(\"\\nLogistic Regression Confusion Matrix:\\n\", lr_conf_matrix)\n",
    "\n",
    "# Save models and vectorizer\n",
    "joblib.dump(nb_model, \"naive_bayes_model.pkl\")\n",
    "joblib.dump(lr_model, \"logistic_regression_model.pkl\")\n",
    "joblib.dump(vectorizer, \"vectorizer.pkl\")\n",
    "\n",
    "print(\"Models and vectorizer saved successfully!\")\n"
   ]
  },
  {
   "cell_type": "code",
   "execution_count": null,
   "id": "c5643ab3",
   "metadata": {},
   "outputs": [],
   "source": []
  }
 ],
 "metadata": {
  "kernelspec": {
   "display_name": "Python 3 (ipykernel)",
   "language": "python",
   "name": "python3"
  },
  "language_info": {
   "codemirror_mode": {
    "name": "ipython",
    "version": 3
   },
   "file_extension": ".py",
   "mimetype": "text/x-python",
   "name": "python",
   "nbconvert_exporter": "python",
   "pygments_lexer": "ipython3",
   "version": "3.11.3"
  }
 },
 "nbformat": 4,
 "nbformat_minor": 5
}
